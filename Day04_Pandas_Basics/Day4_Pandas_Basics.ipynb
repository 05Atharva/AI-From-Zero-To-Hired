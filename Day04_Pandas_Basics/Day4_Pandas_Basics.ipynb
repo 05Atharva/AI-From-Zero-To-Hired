{
 "cells": [
  {
   "cell_type": "code",
   "execution_count": 1,
   "id": "60d823e5-9ec2-44b0-8dd7-eb0cde38c778",
   "metadata": {},
   "outputs": [
    {
     "name": "stdout",
     "output_type": "stream",
     "text": [
      "Pandas imported successfully\n"
     ]
    }
   ],
   "source": [
    "import pandas as pd\n",
    "\n",
    "print(\"Pandas imported successfully\")"
   ]
  },
  {
   "cell_type": "code",
   "execution_count": 2,
   "id": "d674d68a-cadc-4365-945f-b80673c98357",
   "metadata": {},
   "outputs": [
    {
     "name": "stdout",
     "output_type": "stream",
     "text": [
      "Series Output:\n",
      " 0    10\n",
      "1    20\n",
      "2    30\n",
      "3    40\n",
      "4    50\n",
      "dtype: int64\n",
      "Type of Series:\n",
      " <class 'pandas.core.series.Series'>\n"
     ]
    }
   ],
   "source": [
    "#Pandas Series\n",
    "#A Series is like a single column of data.\n",
    "\n",
    "import pandas as pd\n",
    "\n",
    "data=[10,20,30,40,50]\n",
    "series=pd.Series(data)\n",
    "\n",
    "print(\"Series Output:\\n\",series)\n",
    "print(\"Type of Series:\\n\",type(series))"
   ]
  },
  {
   "cell_type": "code",
   "execution_count": 3,
   "id": "6446fb64-370d-4e90-8cd6-da4cadd1b36f",
   "metadata": {},
   "outputs": [
    {
     "name": "stdout",
     "output_type": "stream",
     "text": [
      "Data frame:\n",
      "       Name Age    City\n",
      "0  Atharva  21    Pune\n",
      "1    Nihal  22  Mumbai\n",
      "2     Reva  23   Delhi\n",
      "Type of object:\n",
      " <class 'pandas.core.frame.DataFrame'>\n"
     ]
    }
   ],
   "source": [
    "#Pandas DataFrame\n",
    "# A DataFrame is like an Excel spreadsheet — rows and columns.\n",
    "\n",
    "import pandas as pd\n",
    "\n",
    "data={\n",
    "    \"Name\":[\"Atharva\",\"Nihal\",\"Reva\"],\n",
    "    \"Age\":[\"21\",\"22\",\"23\"],\n",
    "    \"City\":[\"Pune\",\"Mumbai\",\"Delhi\"]\n",
    "}\n",
    "\n",
    "df = pd.DataFrame(data)\n",
    "\n",
    "print(\"Data frame:\\n\",df)\n",
    "print(\"Type of object:\\n\",type(df))"
   ]
  },
  {
   "cell_type": "code",
   "execution_count": 4,
   "id": "a8bed38e-2858-49d3-b7e2-9745872ee9e6",
   "metadata": {},
   "outputs": [
    {
     "name": "stdout",
     "output_type": "stream",
     "text": [
      "CSV file 'sample.csv' created with dummy data!\n",
      "      Name  Age    City\n",
      "0  Atharva   21    Pune\n",
      "1    Nihal   22  Mumbai\n",
      "2     Reva   23   Delhi\n",
      "      Name  Age    City\n",
      "0  Atharva   21    Pune\n",
      "1    Nihal   22  Mumbai\n",
      "2     Reva   23   Delhi\n"
     ]
    }
   ],
   "source": [
    "#Reading CSV File\n",
    "df.to_csv(\"sample.csv\",index=False)\n",
    "print(\"CSV file 'sample.csv' created with dummy data!\")\n",
    "\n",
    "df= pd.read_csv(\"sample.csv\")\n",
    "print(df.head())\n",
    "print(df.tail())\n"
   ]
  },
  {
   "cell_type": "code",
   "execution_count": 5,
   "id": "b95adb3a-ef38-4ea4-ade5-dc05e8959dd3",
   "metadata": {},
   "outputs": [
    {
     "name": "stdout",
     "output_type": "stream",
     "text": [
      "First 5 rows:\n",
      "       Name  Age    City\n",
      "0  Atharva   21    Pune\n",
      "1    Nihal   22  Mumbai\n",
      "2     Reva   23   Delhi\n",
      "Last 2 rows:\n",
      "     Name  Age    City\n",
      "1  Nihal   22  Mumbai\n",
      "2   Reva   23   Delhi\n",
      "Summary info:\n",
      "\n",
      "<class 'pandas.core.frame.DataFrame'>\n",
      "RangeIndex: 3 entries, 0 to 2\n",
      "Data columns (total 3 columns):\n",
      " #   Column  Non-Null Count  Dtype \n",
      "---  ------  --------------  ----- \n",
      " 0   Name    3 non-null      object\n",
      " 1   Age     3 non-null      int64 \n",
      " 2   City    3 non-null      object\n",
      "dtypes: int64(1), object(2)\n",
      "memory usage: 204.0+ bytes\n",
      "None\n",
      "Statistical Summary:\n",
      "         Age\n",
      "count   3.0\n",
      "mean   22.0\n",
      "std     1.0\n",
      "min    21.0\n",
      "25%    21.5\n",
      "50%    22.0\n",
      "75%    22.5\n",
      "max    23.0\n",
      "Shape of DataFrame (rows, columns): (3, 3)\n"
     ]
    }
   ],
   "source": [
    "#Basic Data Inspection\n",
    "\n",
    "print(\"First 5 rows:\\n\",df.head())\n",
    "print(\"Last 2 rows:\\n\", df.tail(2))\n",
    "print(\"Summary info:\\n\")\n",
    "print(df.info())\n",
    "print(\"Statistical Summary:\\n\",df.describe())\n",
    "print(\"Shape of DataFrame (rows, columns):\",df.shape)\n"
   ]
  },
  {
   "cell_type": "code",
   "execution_count": 6,
   "id": "a4ec7864-7423-4ab7-afe4-66dbb9cb465d",
   "metadata": {},
   "outputs": [
    {
     "name": "stdout",
     "output_type": "stream",
     "text": [
      "Row with label 0:\n",
      " Name    Atharva\n",
      "Age          21\n",
      "City       Pune\n",
      "Name: 0, dtype: object\n",
      "Row with index 0:\n",
      " Name     Nihal\n",
      "Age         22\n",
      "City    Mumbai\n",
      "Name: 1, dtype: object\n"
     ]
    }
   ],
   "source": [
    " #Indexing and Selection\n",
    "#Using .loc[] and .iloc[]\n",
    "\n",
    "print(\"Row with label 0:\\n\",df.loc[0])\n",
    "print(\"Row with index 0:\\n\",df.iloc[1])\n",
    "\n"
   ]
  },
  {
   "cell_type": "code",
   "execution_count": 7,
   "id": "afc3cadb-df7e-4074-9cfa-fc90ba9346a3",
   "metadata": {},
   "outputs": [
    {
     "name": "stdout",
     "output_type": "stream",
     "text": [
      "People with Age > 21:\n",
      "     Name  Age    City\n",
      "1  Nihal   22  Mumbai\n",
      "2   Reva   23   Delhi\n"
     ]
    }
   ],
   "source": [
    "#Conditional Filtering\n",
    "\n",
    "print(\"People with Age > 21:\\n\",df[df[\"Age\"] > 21])\n",
    "\n"
   ]
  },
  {
   "cell_type": "code",
   "execution_count": 8,
   "id": "335615aa-d4d2-4c4a-965a-17cf76fc445a",
   "metadata": {},
   "outputs": [
    {
     "name": "stdout",
     "output_type": "stream",
     "text": [
      "Added new colunm:\n",
      "       Name  Age    City  Score\n",
      "0  Atharva   21    Pune     88\n",
      "1    Nihal   22  Mumbai     98\n",
      "2     Reva   23   Delhi     95\n",
      "Renamed colunm:\n",
      "       Name  Age Location  Score\n",
      "0  Atharva   21     Pune     88\n",
      "1    Nihal   22   Mumbai     98\n",
      "2     Reva   23    Delhi     95\n",
      "Removed colunm:\n",
      "       Name  Age Location\n",
      "0  Atharva   21     Pune\n",
      "1    Nihal   22   Mumbai\n",
      "2     Reva   23    Delhi\n"
     ]
    }
   ],
   "source": [
    "#Adding, Removing, Renaming Columns\n",
    "\n",
    "df[\"Score\"]= [88,98,95]\n",
    "print(\"Added new colunm:\\n\",df)\n",
    "\n",
    "df.rename(columns={\"City\": \"Location\"},inplace=True)\n",
    "print(\"Renamed colunm:\\n\",df)\n",
    "\n",
    "df=df.drop(\"Score\",axis=1)\n",
    "print(\"Removed colunm:\\n\",df)"
   ]
  },
  {
   "cell_type": "code",
   "execution_count": 9,
   "id": "7158032d-a643-42b4-a287-eb06d37a896d",
   "metadata": {},
   "outputs": [
    {
     "name": "stdout",
     "output_type": "stream",
     "text": [
      "Sorted by Age descending:\n",
      "       Name  Age Location\n",
      "2     Reva   23    Delhi\n",
      "1    Nihal   22   Mumbai\n",
      "0  Atharva   21     Pune\n"
     ]
    }
   ],
   "source": [
    "#Sorting\n",
    "df_sorted=df.sort_values(by=\"Age\",ascending=False)\n",
    "print(\"Sorted by Age descending:\\n\", df_sorted)"
   ]
  },
  {
   "cell_type": "code",
   "execution_count": 10,
   "id": "6070ae9a-d9d4-451f-b35f-0ee0429b327e",
   "metadata": {},
   "outputs": [
    {
     "name": "stdout",
     "output_type": "stream",
     "text": [
      "Sorted by Age descending:\n",
      "       Name  Age Location\n",
      "0  Atharva   21     Pune\n",
      "1    Nihal   22   Mumbai\n",
      "2     Reva   23    Delhi\n"
     ]
    }
   ],
   "source": [
    "#Sorting\n",
    "df_sorted=df.sort_values(by=\"Age\",ascending=True)\n",
    "print(\"Sorted by Age descending:\\n\", df_sorted)"
   ]
  },
  {
   "cell_type": "code",
   "execution_count": null,
   "id": "5b805b8d-5f92-43c2-85d1-aac9df1e36bf",
   "metadata": {},
   "outputs": [],
   "source": []
  }
 ],
 "metadata": {
  "kernelspec": {
   "display_name": "Python 3 (ipykernel)",
   "language": "python",
   "name": "python3"
  },
  "language_info": {
   "codemirror_mode": {
    "name": "ipython",
    "version": 3
   },
   "file_extension": ".py",
   "mimetype": "text/x-python",
   "name": "python",
   "nbconvert_exporter": "python",
   "pygments_lexer": "ipython3",
   "version": "3.11.7"
  }
 },
 "nbformat": 4,
 "nbformat_minor": 5
}
