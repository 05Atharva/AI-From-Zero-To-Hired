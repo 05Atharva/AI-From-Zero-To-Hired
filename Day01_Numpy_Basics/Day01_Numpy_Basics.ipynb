{
 "cells": [
  {
   "cell_type": "code",
   "execution_count": 1,
   "id": "38199b8e-243b-4051-8ccc-4aa06533e212",
   "metadata": {},
   "outputs": [],
   "source": [
    "import numpy as np"
   ]
  },
  {
   "cell_type": "code",
   "execution_count": 2,
   "id": "0a477404-3fdf-4940-9077-0693324127d4",
   "metadata": {},
   "outputs": [],
   "source": [
    "#Creating Arrays\n",
    "#From python list\n",
    "\n",
    "a=np.array([1,2,3])\n",
    "b=np.array([[1,2],[3,4]])\n",
    "\n",
    "#Predefined zeros\n",
    "zeros=np.zeros((2,3))\n",
    "ones=np.ones((3,3))\n",
    "eye=np.eye(3)\n",
    "arange=np.arange(0,10,1)\n",
    "linspace=np.linspace(0,1,5)\n",
    "\n"
   ]
  },
  {
   "cell_type": "code",
   "execution_count": 3,
   "id": "e06caadf-b9ff-447b-aab3-5f7d7032d881",
   "metadata": {},
   "outputs": [
    {
     "name": "stdout",
     "output_type": "stream",
     "text": [
      "[1 2 3]\n",
      "[[1 2]\n",
      " [3 4]]\n",
      "[[0. 0. 0.]\n",
      " [0. 0. 0.]]\n",
      "[[1. 1. 1.]\n",
      " [1. 1. 1.]\n",
      " [1. 1. 1.]]\n",
      "[[1. 0. 0.]\n",
      " [0. 1. 0.]\n",
      " [0. 0. 1.]]\n",
      "[0 1 2 3 4 5 6 7 8 9]\n",
      "[0.   0.25 0.5  0.75 1.  ]\n"
     ]
    }
   ],
   "source": [
    "print(a)\n",
    "print(b)\n",
    "print(zeros)\n",
    "print(ones)\n",
    "print(eye)\n",
    "print(arange)\n",
    "print(linspace)\n"
   ]
  },
  {
   "cell_type": "code",
   "execution_count": 4,
   "id": "9404e537-2277-4b63-a325-f8038cfade1d",
   "metadata": {},
   "outputs": [
    {
     "name": "stdout",
     "output_type": "stream",
     "text": [
      "Shape: (3,)\n",
      "DataType: int32\n",
      "Dimensions: 1\n",
      "Size: 3\n"
     ]
    }
   ],
   "source": [
    "#Array Attributes\n",
    "print(\"Shape:\",a.shape)\n",
    "print(\"DataType:\",a.dtype)\n",
    "print(\"Dimensions:\",a.ndim)\n",
    "print(\"Size:\",a.size)\n",
    "\n"
   ]
  },
  {
   "cell_type": "code",
   "execution_count": 5,
   "id": "eb954baa-6838-4bf7-9553-436ddc067ad6",
   "metadata": {},
   "outputs": [
    {
     "name": "stdout",
     "output_type": "stream",
     "text": [
      "2\n",
      "[[1 2 3]]\n",
      "[4 5 6]\n"
     ]
    }
   ],
   "source": [
    "#Indexing and Slicing\n",
    "arr= np.array([[1,2,3],[4,5,6]])\n",
    "print(arr[0,1])\n",
    "print(arr[:1])\n",
    "print(arr[1,:])\n"
   ]
  },
  {
   "cell_type": "code",
   "execution_count": 6,
   "id": "70100ee7-3864-4a47-a07c-1bebde0693ad",
   "metadata": {},
   "outputs": [
    {
     "name": "stdout",
     "output_type": "stream",
     "text": [
      "[5 7 9]\n",
      "[ 4 10 18]\n",
      "[0.5 1.  1.5]\n",
      "[1 4 9]\n"
     ]
    }
   ],
   "source": [
    "#Basic Operation\n",
    "x=np.array([1,2,3])\n",
    "y=np.array([4,5,6])\n",
    "\n",
    "print(x+y)\n",
    "print(x*y)\n",
    "print(x/2)\n",
    "print(x**2)\n"
   ]
  },
  {
   "cell_type": "code",
   "execution_count": 7,
   "id": "4c6f0511-c28f-48a1-815d-02c6e9ba6036",
   "metadata": {},
   "outputs": [
    {
     "name": "stdout",
     "output_type": "stream",
     "text": [
      "[[11 21 31]\n",
      " [12 22 32]\n",
      " [13 23 33]]\n"
     ]
    }
   ],
   "source": [
    "#Broadcasting\n",
    "a=np.array([[1],[2],[3]])\n",
    "b=np.array([10,20,30])\n",
    "print(a+b)\n",
    "\n"
   ]
  },
  {
   "cell_type": "code",
   "execution_count": 8,
   "id": "9eb55814-94ed-4c34-ae82-3eacd72d7098",
   "metadata": {},
   "outputs": [
    {
     "name": "stdout",
     "output_type": "stream",
     "text": [
      "[[7 7 7 7]\n",
      " [7 7 7 7]\n",
      " [7 7 7 7]]\n",
      "[[  1   2   3   4   5   6   7   8   9  10]\n",
      " [ 11  12  13  14  15  16  17  18  19  20]\n",
      " [ 21  22  23  24  25  26  27  28  29  30]\n",
      " [ 31  32  33  34  35  36  37  38  39  40]\n",
      " [ 41  42  43  44  45  46  47  48  49  50]\n",
      " [ 51  52  53  54  55  56  57  58  59  60]\n",
      " [ 61  62  63  64  65  66  67  68  69  70]\n",
      " [ 71  72  73  74  75  76  77  78  79  80]\n",
      " [ 81  82  83  84  85  86  87  88  89  90]\n",
      " [ 91  92  93  94  95  96  97  98  99 100]]\n",
      "[[ 4  5  6  7]\n",
      " [ 8  9 10 11]]\n",
      "[[10 20 30]\n",
      " [20 40 60]\n",
      " [30 60 90]]\n",
      "3.0\n",
      "3.0\n",
      "1.4142135623730951\n"
     ]
    }
   ],
   "source": [
    "#Practice Exercise\n",
    "\n",
    "#Create a 2D array of shape (3, 4) filled with 7s.\n",
    "arr=np.full((3,4),7)\n",
    "print(arr)\n",
    "\n",
    "#Create a NumPy array from 1 to 100 and reshape to (10, 10)\n",
    "\n",
    "x=np.arange(1,101).reshape((10,10))\n",
    "print(x)\n",
    "\n",
    "#Slice out the 2nd and 3rd rows from a 4x4 array\n",
    "y=np.arange(16).reshape(4,4)\n",
    "sliced=y[1:3,:]\n",
    "print(sliced)\n",
    "\n",
    "# Multiply two arrays using broadcasting\n",
    "a=np.array([[1],[2],[3]])\n",
    "b=np.array([10,20,30])\n",
    "\n",
    "results=a*b\n",
    "print(results)\n",
    "\n",
    "#Find the mean, median, and standard deviation of a given array\n",
    "z=np.array([1,2,3,4,5])\n",
    "mean=np.mean(z)\n",
    "median=np.median(z)\n",
    "std=np.std(z)\n",
    "print(mean)\n",
    "print(median)\n",
    "print(std)\n",
    "\n"
   ]
  },
  {
   "cell_type": "code",
   "execution_count": null,
   "id": "8040acb6-1d60-485d-bff9-3fd8bfcdc75d",
   "metadata": {},
   "outputs": [],
   "source": []
  }
 ],
 "metadata": {
  "kernelspec": {
   "display_name": "Python 3 (ipykernel)",
   "language": "python",
   "name": "python3"
  },
  "language_info": {
   "codemirror_mode": {
    "name": "ipython",
    "version": 3
   },
   "file_extension": ".py",
   "mimetype": "text/x-python",
   "name": "python",
   "nbconvert_exporter": "python",
   "pygments_lexer": "ipython3",
   "version": "3.11.7"
  }
 },
 "nbformat": 4,
 "nbformat_minor": 5
}
