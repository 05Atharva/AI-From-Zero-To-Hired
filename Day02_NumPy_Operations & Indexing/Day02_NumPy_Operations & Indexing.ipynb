{
 "cells": [
  {
   "cell_type": "code",
   "execution_count": 1,
   "id": "a01d621e-be6f-4ed1-b1f2-9daf6aa06b3f",
   "metadata": {},
   "outputs": [
    {
     "name": "stdout",
     "output_type": "stream",
     "text": [
      "[5 7 9]\n",
      "[-3 -3 -3]\n",
      "[ 4 10 18]\n",
      "[0.25 0.4  0.5 ]\n"
     ]
    }
   ],
   "source": [
    "#Basic Mathematical Operations\n",
    "import numpy as np\n",
    "\n",
    "a=np.array([1,2,3])\n",
    "b=np.array([4,5,6])\n",
    "\n",
    "print(a+b) #Element wise addition\n",
    "print(a-b) #Element wise subtraction\n",
    "print(a*b) #Element wise multiplication\n",
    "print(a/b) #Element wise divison\n"
   ]
  },
  {
   "cell_type": "code",
   "execution_count": 2,
   "id": "fde28e5f-3200-4e88-b893-d7c900fcd24f",
   "metadata": {},
   "outputs": [
    {
     "name": "stdout",
     "output_type": "stream",
     "text": [
      "[False False  True  True  True]\n",
      "[30 40 50]\n"
     ]
    }
   ],
   "source": [
    "#Boolean Indexing\n",
    "\n",
    "arr=np.array([10,20,30,40,50])\n",
    "bool_idr= arr>25 #Creates Boolean\n",
    "\n",
    "print(bool_idr)\n",
    "print(arr[bool_idr])\n",
    "\n",
    "\n"
   ]
  },
  {
   "cell_type": "code",
   "execution_count": 3,
   "id": "8632a5a2-6656-486b-8312-be01691ce874",
   "metadata": {},
   "outputs": [
    {
     "name": "stdout",
     "output_type": "stream",
     "text": [
      "[200 300 400]\n"
     ]
    }
   ],
   "source": [
    "#Fancy Indexing\n",
    "x=np.array([100,200,300,400,500,600])\n",
    "\n",
    "indices=[1,2,3]\n",
    "\n",
    "print(x[indices])"
   ]
  },
  {
   "cell_type": "code",
   "execution_count": 4,
   "id": "56c8334d-f411-44f0-8e13-e359a61b8b94",
   "metadata": {},
   "outputs": [
    {
     "name": "stdout",
     "output_type": "stream",
     "text": [
      "[ 1  2  3 99 99]\n"
     ]
    }
   ],
   "source": [
    "#Conditional Replacement\n",
    "a=np.array([1,2,3,4,5])\n",
    "a[a>3]=99\n",
    "\n",
    "print(a)\n"
   ]
  },
  {
   "cell_type": "code",
   "execution_count": 5,
   "id": "bf53d8fc-dd8a-46e9-ad86-6d2797d61f76",
   "metadata": {},
   "outputs": [
    {
     "name": "stdout",
     "output_type": "stream",
     "text": [
      "10\n",
      "[4 6]\n",
      "[3 7]\n",
      "4\n",
      "1\n"
     ]
    }
   ],
   "source": [
    "#Aggregation Functions\n",
    "\n",
    "b=np.array([[1,2],[3,4]])\n",
    "\n",
    "print(np.sum(b))\n",
    "\n",
    "print(np.sum(b,axis=0)) #Column wise addition\n",
    "\n",
    "print(np.sum(b,axis=1))#Row wise addition\n",
    "\n",
    "print(np.max(b))\n",
    "print(np.min(b))\n",
    "      \n"
   ]
  },
  {
   "cell_type": "code",
   "execution_count": null,
   "id": "e6d81de2-f5ce-41c6-b3e3-3bd5f3dfcfb7",
   "metadata": {},
   "outputs": [],
   "source": []
  }
 ],
 "metadata": {
  "kernelspec": {
   "display_name": "Python 3 (ipykernel)",
   "language": "python",
   "name": "python3"
  },
  "language_info": {
   "codemirror_mode": {
    "name": "ipython",
    "version": 3
   },
   "file_extension": ".py",
   "mimetype": "text/x-python",
   "name": "python",
   "nbconvert_exporter": "python",
   "pygments_lexer": "ipython3",
   "version": "3.11.7"
  }
 },
 "nbformat": 4,
 "nbformat_minor": 5
}
