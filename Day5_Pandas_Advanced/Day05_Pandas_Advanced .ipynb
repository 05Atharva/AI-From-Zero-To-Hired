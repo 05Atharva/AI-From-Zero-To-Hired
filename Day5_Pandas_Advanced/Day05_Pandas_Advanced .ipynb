{
 "cells": [
  {
   "cell_type": "code",
   "execution_count": 1,
   "id": "937e1102-d74a-49a9-ba12-ca7dd3ee4f36",
   "metadata": {},
   "outputs": [
    {
     "name": "stdout",
     "output_type": "stream",
     "text": [
      "Merged DataFrame (inner join):\n",
      "   ID     Name  Score\n",
      "0   1  Atharva     88\n",
      "1   2    Nihal     99\n"
     ]
    }
   ],
   "source": [
    "#1. merge() and concat() in Pandas\n",
    "#What are they?\n",
    "#merge() = SQL-style joins (combine rows based on keys)\n",
    "\n",
    "#concat() = Stack DataFrames vertically or horizontally\n",
    "\n",
    "import pandas as pd\n",
    "\n",
    "df1 = pd.DataFrame({\n",
    "    'ID': [1,2,3],\n",
    "    'Name':['Atharva','Nihal','Reva']\n",
    "})\n",
    "\n",
    "df2 = pd.DataFrame({\n",
    "    'ID':[1,2,4],\n",
    "    'Score':[88,99,95]\n",
    "})\n",
    "\n",
    "merged_df =pd.merge(df1,df2,on='ID',how='inner')\n",
    "\n",
    "print(\"Merged DataFrame (inner join):\")\n",
    "print(merged_df)"
   ]
  },
  {
   "cell_type": "code",
   "execution_count": 3,
   "id": "ac931861-864a-46c1-a8c3-dd26ed0eb5c7",
   "metadata": {},
   "outputs": [
    {
     "name": "stdout",
     "output_type": "stream",
     "text": [
      "Concatenated DataFrame (vertical):\n",
      "      Name  Age\n",
      "0  Atharva   21\n",
      "1    Nihal   22\n",
      "0     Reva   23\n",
      "1    Omkar   24\n"
     ]
    }
   ],
   "source": [
    "#1.2 concat() – Stack DataFrames\n",
    "\n",
    "df_a=pd.DataFrame ({ 'Name':['Atharva','Nihal'],'Age':[21,22] })\n",
    "\n",
    "df_b=pd.DataFrame ({ 'Name':['Reva','Omkar'],'Age':[23,24] })\n",
    "\n",
    "concat_df= pd.concat([df_a,df_b])\n",
    "\n",
    "print(\"Concatenated DataFrame (vertical):\")\n",
    "print(concat_df)\n",
    "\n"
   ]
  },
  {
   "cell_type": "code",
   "execution_count": 6,
   "id": "3f4ec868-b3b1-4238-a468-4e2c17dbc46f",
   "metadata": {},
   "outputs": [
    {
     "name": "stdout",
     "output_type": "stream",
     "text": [
      "Average marks per department:\n",
      "Department\n",
      "CS      89.0\n",
      "ENTC    90.0\n",
      "IT      93.0\n",
      "Name: Marks, dtype: float64\n"
     ]
    }
   ],
   "source": [
    "#groupby() – Group and Aggregate\n",
    "\n",
    "data= pd.DataFrame({'Department':['CS','CS','IT','IT','ENTC'],\n",
    "                    'Marks':[88,90,98,88,90] })\n",
    "\n",
    "grouped=data.groupby('Department')['Marks'].mean()\n",
    "print(\"Average marks per department:\")\n",
    "print(grouped)"
   ]
  },
  {
   "cell_type": "code",
   "execution_count": 8,
   "id": "95509cfe-92a6-4315-8f24-bd00b6a1894e",
   "metadata": {},
   "outputs": [
    {
     "name": "stdout",
     "output_type": "stream",
     "text": [
      "Pivot Table:\n",
      "Subject  Math  Science\n",
      "Name                  \n",
      "Atharva  90.0     88.0\n",
      "Nihal    85.0      NaN\n",
      "Reva     95.0      NaN\n"
     ]
    }
   ],
   "source": [
    "# Pivot & Pivot Table\n",
    "#Pivot Table (used for aggregating data)\n",
    "\n",
    "df = pd.DataFrame({\n",
    "    'Name': ['Atharva', 'Nihal', 'Reva', 'Atharva'],\n",
    "    'Subject': ['Math', 'Math', 'Math', 'Science'],\n",
    "    'Score': [90, 85, 95, 88]\n",
    "})\n",
    "\n",
    "pivot_table=df.pivot_table(index='Name',columns='Subject',values='Score',aggfunc='mean')\n",
    "print(\"Pivot Table:\")\n",
    "print(pivot_table)"
   ]
  },
  {
   "cell_type": "code",
   "execution_count": 9,
   "id": "55aa4b52-3113-4f86-9ea1-0b022f34afc6",
   "metadata": {},
   "outputs": [
    {
     "name": "stdout",
     "output_type": "stream",
     "text": [
      "Original DataFrame with missing values:\n",
      "      Name   Age    City\n",
      "0  Atharva  21.0    Pune\n",
      "1    Nihal   NaN  Mumbai\n",
      "2     Reva  23.0    None\n",
      "\n",
      "Missing Values:\n",
      "    Name    Age   City\n",
      "0  False  False  False\n",
      "1  False   True  False\n",
      "2  False  False   True\n",
      "\n",
      "DataFrame after fillna():\n",
      "      Name      Age     City\n",
      "0  Atharva     21.0     Pune\n",
      "1    Nihal  Unknown   Mumbai\n",
      "2     Reva     23.0  Unknown\n",
      "\n",
      "DataFrame after dropna():\n",
      "      Name   Age  City\n",
      "0  Atharva  21.0  Pune\n"
     ]
    }
   ],
   "source": [
    "#Handling Missing Data\n",
    "\n",
    "df = pd.DataFrame({\n",
    "    'Name': ['Atharva', 'Nihal', 'Reva'],\n",
    "    'Age': [21, None, 23],\n",
    "    'City': ['Pune', 'Mumbai', None]\n",
    "})\n",
    "\n",
    "print(\"Original DataFrame with missing values:\")\n",
    "print(df)\n",
    "\n",
    "# Detect missing\n",
    "print(\"\\nMissing Values:\")\n",
    "print(df.isnull())\n",
    "\n",
    "# Fill missing\n",
    "df_filled=df.fillna(\"Unknown\")\n",
    "print(\"\\nDataFrame after fillna():\")\n",
    "print(df_filled)\n",
    "\n",
    "#Drop missing\n",
    "df_dropped=df.dropna()\n",
    "print(\"\\nDataFrame after dropna():\")\n",
    "print(df_dropped)\n"
   ]
  },
  {
   "cell_type": "code",
   "execution_count": 10,
   "id": "15b01211-2a01-4ace-b352-1e32b8340d2f",
   "metadata": {},
   "outputs": [
    {
     "name": "stdout",
     "output_type": "stream",
     "text": [
      "DataFrame with converted data types:\n",
      "   Age   JoinDate\n",
      "0   21 2023-01-01\n",
      "1   22 2023-02-01\n",
      "2   23 2023-03-01\n",
      "\n",
      "Data Types:\n",
      "Age                  int32\n",
      "JoinDate    datetime64[ns]\n",
      "dtype: object\n"
     ]
    }
   ],
   "source": [
    "#5. Data Type Conversion\n",
    "\n",
    "df = pd.DataFrame({\n",
    "    'Age': ['21', '22', '23'],\n",
    "    'JoinDate': ['2023-01-01', '2023-02-01', '2023-03-01']\n",
    "})\n",
    "\n",
    "# Convert Age to integer\n",
    "df['Age']=df['Age'].astype(int)\n",
    "\n",
    "# Convert JoinDate to datetime\n",
    "df['JoinDate'] =pd.to_datetime(df['JoinDate'])\n",
    "\n",
    "print(\"DataFrame with converted data types:\")\n",
    "print(df)\n",
    "print(\"\\nData Types:\")\n",
    "print(df.dtypes)"
   ]
  },
  {
   "cell_type": "code",
   "execution_count": null,
   "id": "832a1949-81a3-4b26-a7c0-5980b645f386",
   "metadata": {},
   "outputs": [],
   "source": []
  }
 ],
 "metadata": {
  "kernelspec": {
   "display_name": "Python 3 (ipykernel)",
   "language": "python",
   "name": "python3"
  },
  "language_info": {
   "codemirror_mode": {
    "name": "ipython",
    "version": 3
   },
   "file_extension": ".py",
   "mimetype": "text/x-python",
   "name": "python",
   "nbconvert_exporter": "python",
   "pygments_lexer": "ipython3",
   "version": "3.11.7"
  }
 },
 "nbformat": 4,
 "nbformat_minor": 5
}
