{
 "cells": [
  {
   "cell_type": "code",
   "execution_count": 2,
   "id": "2c052347-ef9e-4899-9bda-2f55e088d06e",
   "metadata": {},
   "outputs": [
    {
     "name": "stdout",
     "output_type": "stream",
     "text": [
      "Random float values between 0 and 1: [0.37454012 0.95071431 0.73199394]\n"
     ]
    }
   ],
   "source": [
    "#np.random.rand() – Random float numbers between 0 and 1\n",
    "\n",
    "import numpy as np\n",
    "\n",
    "np.random.seed(42) # For reproducibility\n",
    "\n",
    "a=np.random.rand(3)\n",
    "print(\"Random float values between 0 and 1:\", a)"
   ]
  },
  {
   "cell_type": "code",
   "execution_count": 3,
   "id": "ab921c2a-df6f-4b05-bd2a-47e1722151f5",
   "metadata": {},
   "outputs": [
    {
     "name": "stdout",
     "output_type": "stream",
     "text": [
      "Random integers between 0 and 9: [4 6 9 2 6]\n"
     ]
    }
   ],
   "source": [
    "#np.random.randint() – Random integers in a given range\n",
    "b=np.random.randint(0,10,size=5)\n",
    "print(\"Random integers between 0 and 9:\", b)"
   ]
  },
  {
   "cell_type": "code",
   "execution_count": 4,
   "id": "82a60567-fb77-4f4d-97e5-be6f5bb31480",
   "metadata": {},
   "outputs": [
    {
     "name": "stdout",
     "output_type": "stream",
     "text": [
      "Random numbers from standard normal distribution: [ 1.57921282  0.76743473 -0.46947439]\n"
     ]
    }
   ],
   "source": [
    "#np.random.randn() – Random samples from a normal distribution\n",
    "c=np.random.randn(3)\n",
    "\n",
    "print(\"Random numbers from standard normal distribution:\", c)\n"
   ]
  },
  {
   "cell_type": "code",
   "execution_count": 5,
   "id": "692a6bea-fb20-41cf-bb16-2967dd1997c9",
   "metadata": {},
   "outputs": [
    {
     "name": "stdout",
     "output_type": "stream",
     "text": [
      "Original array is: [0 1 2 3 4]\n",
      "Shuffled array is: [2 1 4 0 3]\n"
     ]
    }
   ],
   "source": [
    "#np.random.shuffle() – Shuffle an existing array in-place\n",
    "\n",
    "arr=np.arange(5)\n",
    "print(\"Original array is:\",arr)\n",
    "np.random.shuffle(arr)\n",
    "\n",
    "print(\"Shuffled array is:\",arr)\n"
   ]
  },
  {
   "cell_type": "code",
   "execution_count": 6,
   "id": "57284a7b-a028-4f99-87e7-706ad24404e1",
   "metadata": {},
   "outputs": [
    {
     "name": "stdout",
     "output_type": "stream",
     "text": [
      "Original Array: [0 1 2 3 4 5]\n",
      "Reshaped array: [[0 1 2]\n",
      " [3 4 5]]\n"
     ]
    }
   ],
   "source": [
    "#reshape() – Change the shape of the array without changing data\n",
    "a=np.arange(6)\n",
    "reshape=a.reshape((2,3))\n",
    "\n",
    "print(\"Original Array:\",a)\n",
    "print(\"Reshaped array:\",reshape)"
   ]
  },
  {
   "cell_type": "code",
   "execution_count": 7,
   "id": "44d218c5-c828-411b-908a-cf25e587e4df",
   "metadata": {},
   "outputs": [
    {
     "name": "stdout",
     "output_type": "stream",
     "text": [
      "Original:\n",
      " [[1 2]\n",
      " [3 4]]\n",
      "Ravelled:\n",
      " [1 2 3 4]\n",
      "Flatten:\n",
      " [1 2 3 4]\n",
      "\n",
      "After modifying b[0][0]:\n",
      "Ravelled reflects change:\n",
      " [100   2   3   4]\n",
      "Flattened stays same:\n",
      " [1 2 3 4]\n"
     ]
    }
   ],
   "source": [
    "#ravel() vs flatten()\n",
    "#ravel() returns a view of the original array (changes reflect back)\n",
    "#flatten() returns a copy (independent array)\n",
    "\n",
    "b=np.array([[1,2],[3,4]])\n",
    "r=b.ravel()\n",
    "f=b.flatten()\n",
    "\n",
    "print(\"Original:\\n\",b)\n",
    "print(\"Ravelled:\\n\",r)\n",
    "print(\"Flatten:\\n\",f)\n",
    "\n",
    "b[0][0]=100\n",
    "print(\"\\nAfter modifying b[0][0]:\")\n",
    "print(\"Ravelled reflects change:\\n\", r)\n",
    "print(\"Flattened stays same:\\n\", f)"
   ]
  },
  {
   "cell_type": "code",
   "execution_count": 8,
   "id": "97c83fac-cc4c-44af-920a-65fd362b69b4",
   "metadata": {},
   "outputs": [
    {
     "name": "stdout",
     "output_type": "stream",
     "text": [
      "Original array before transpose:\n",
      " [[1 2 3]\n",
      " [4 5 6]]\n",
      "Original array after transpose:\n",
      " [[1 4]\n",
      " [2 5]\n",
      " [3 6]]\n"
     ]
    }
   ],
   "source": [
    "#transpose() – Flips rows to columns (used in matrices)\n",
    "c=np.array([[1,2,3],[4,5,6]])\n",
    "print(\"Original array before transpose:\\n\",c)\n",
    "print(\"Original array after transpose:\\n\",c.T)"
   ]
  },
  {
   "cell_type": "code",
   "execution_count": 9,
   "id": "544a2de9-5a78-4fae-8ace-8974ef4b0780",
   "metadata": {},
   "outputs": [
    {
     "name": "stdout",
     "output_type": "stream",
     "text": [
      "Original shape: (2, 2)\n",
      "Original array:\n",
      " [[1 2]\n",
      " [3 4]]\n",
      "Swapped axes (0 and 1): shape (2, 2)\n",
      "Swapped array:\n",
      " [[1 3]\n",
      " [2 4]]\n"
     ]
    }
   ],
   "source": [
    "import numpy as np\n",
    "\n",
    "d = np.array([[1, 2], [3, 4]])\n",
    "print(\"Original shape:\", d.shape)\n",
    "print(\"Original array:\\n\", d)\n",
    "\n",
    "swapped = np.swapaxes(d, 0, 1)\n",
    "print(\"Swapped axes (0 and 1): shape\", swapped.shape)\n",
    "print(\"Swapped array:\\n\", swapped)\n"
   ]
  },
  {
   "cell_type": "code",
   "execution_count": 10,
   "id": "baac81c9-cb89-4939-9f33-2ddf81f9fc1b",
   "metadata": {},
   "outputs": [
    {
     "name": "stdout",
     "output_type": "stream",
     "text": [
      "Vertical Stack:\n",
      " [[1 2]\n",
      " [3 4]]\n",
      "Horizontal Stack:\n",
      " [1 2 3 4]\n"
     ]
    }
   ],
   "source": [
    "#vstack() & hstack() – Stack arrays vertically or horizontally\n",
    "a=np.array([1,2])\n",
    "b=np.array([3,4])\n",
    "\n",
    "v=np.vstack((a,b))\n",
    "h=np.hstack((a,b))\n",
    "\n",
    "print(\"Vertical Stack:\\n\", v)\n",
    "print(\"Horizontal Stack:\\n\", h)"
   ]
  },
  {
   "cell_type": "code",
   "execution_count": 11,
   "id": "9c8642fd-f9f1-441d-841d-18a64f1fac97",
   "metadata": {},
   "outputs": [
    {
     "name": "stdout",
     "output_type": "stream",
     "text": [
      "Original array: [1 2 3 4 5 6]\n",
      "Splitted into 3 parts: [array([1, 2]), array([3, 4]), array([5, 6])]\n"
     ]
    }
   ],
   "source": [
    "#split() – Split arrays into multiple parts\n",
    "a=np.array([1,2,3,4,5,6])\n",
    "splits=np.split(a,3)\n",
    "\n",
    "print(\"Original array:\", a)\n",
    "print(\"Splitted into 3 parts:\", splits)\n"
   ]
  },
  {
   "cell_type": "code",
   "execution_count": 12,
   "id": "acdd939a-a671-4b2a-873a-7c608d4242f3",
   "metadata": {},
   "outputs": [
    {
     "name": "stdout",
     "output_type": "stream",
     "text": [
      "Union: [1 2 3 4 5 6]\n",
      "Intersection: [3 4]\n",
      "Set Difference: [1 2]\n",
      "Symettric Difference: [1 2 5 6]\n"
     ]
    }
   ],
   "source": [
    "#: Set Operations in NumPy\n",
    "a = np.array([1, 2, 3, 4])\n",
    "b = np.array([3, 4, 5, 6])\n",
    "\n",
    "print(\"Union:\",np.union1d(a,b))\n",
    "print(\"Intersection:\",np.intersect1d(a,b))\n",
    "print(\"Set Difference:\",np.setdiff1d(a,b))\n",
    "print(\"Symettric Difference:\",np.setxor1d(a,b))"
   ]
  },
  {
   "cell_type": "code",
   "execution_count": 13,
   "id": "b2edb6c8-e888-4ea5-9dd4-769302d9a345",
   "metadata": {},
   "outputs": [
    {
     "name": "stdout",
     "output_type": "stream",
     "text": [
      "Original: [99  2  3]\n",
      "View reflects change: [99  2  3]\n",
      "Copy stays unchanged: [1 2 3]\n"
     ]
    }
   ],
   "source": [
    "#View – Shares data with original (changes reflect)\n",
    "#Copy – Independent\n",
    "\n",
    "a=np.array([1,2,3])\n",
    "view_arr=a.view()\n",
    "copy_arr=a.copy()\n",
    "\n",
    "a[0] = 99\n",
    "print(\"Original:\", a)\n",
    "print(\"View reflects change:\", view_arr)\n",
    "print(\"Copy stays unchanged:\", copy_arr)"
   ]
  },
  {
   "cell_type": "code",
   "execution_count": 14,
   "id": "6a753fcd-21d0-403f-9057-5d981b44487a",
   "metadata": {},
   "outputs": [
    {
     "name": "stdout",
     "output_type": "stream",
     "text": [
      " Random 3x3 Matrix:\n",
      " [[9 5 8]\n",
      " [0 9 2]\n",
      " [6 3 8]]\n",
      "\n",
      " Flattened Matrix (1D array):\n",
      " [9 5 8 0 9 2 6 3 8]\n",
      "\n",
      " Transposed Flattened Array:\n",
      " [9 5 8 0 9 2 6 3 8]\n",
      "Shape of flattened: (9,)\n",
      "Shape of transposed: (9,)\n",
      "\n",
      " Another Array to Stack:\n",
      " [0 1 2 3 4 5 6 7 8]\n",
      "\n",
      " Horizontally Stacked Arrays:\n",
      " [[9 5 8 0 9 2 6 3 8 0 1 2 3 4 5 6 7 8]]\n",
      "\n",
      " Vertically Stacked Arrays:\n",
      " [[9 5 8 0 9 2 6 3 8]\n",
      " [0 1 2 3 4 5 6 7 8]]\n",
      "\n",
      " Intersection of Arrays:\n",
      " [3 4 5]\n",
      "\n",
      " Original after modifying view:\n",
      " [999  20  30]\n",
      " View:\n",
      " [999  20  30]\n",
      "\n",
      " Copy after modification (original unaffected):\n",
      " [ 10 888  30]\n",
      " Original (unchanged by copy):\n",
      " [999  20  30]\n"
     ]
    }
   ],
   "source": [
    "#Optional Challenges\n",
    "import numpy as np\n",
    "\n",
    "# 1. Create a random 3x3 matrix of integers (0 to 9)\n",
    "matrix = np.random.randint(0, 10, size=(3, 3))\n",
    "print(\" Random 3x3 Matrix:\\n\", matrix)\n",
    "\n",
    "# 2. Flatten it\n",
    "flattened = matrix.flatten()\n",
    "print(\"\\n Flattened Matrix (1D array):\\n\", flattened)\n",
    "\n",
    "# 3. Transpose it (does it change?)\n",
    "transposed = flattened.T\n",
    "print(\"\\n Transposed Flattened Array:\\n\", transposed)\n",
    "\n",
    "# Check shape\n",
    "print(\"Shape of flattened:\", flattened.shape)\n",
    "print(\"Shape of transposed:\", transposed.shape)\n",
    "#  Transposing a 1D array does nothing since there's only 1 axis.\n",
    "\n",
    "# 4. Stack it with another array (horizontal and vertical)\n",
    "another_array = np.arange(9)\n",
    "print(\"\\n Another Array to Stack:\\n\", another_array)\n",
    "\n",
    "# Reshape both to 2D before stacking\n",
    "flat_2d = flattened.reshape(1, -1)\n",
    "another_2d = another_array.reshape(1, -1)\n",
    "\n",
    "# Horizontal Stack\n",
    "h_stack = np.hstack((flat_2d, another_2d))\n",
    "print(\"\\n Horizontally Stacked Arrays:\\n\", h_stack)\n",
    "\n",
    "# Vertical Stack\n",
    "v_stack = np.vstack((flat_2d, another_2d))\n",
    "print(\"\\n Vertically Stacked Arrays:\\n\", v_stack)\n",
    "\n",
    "# 5. Find intersection with another array\n",
    "array1 = np.array([1, 2, 3, 4, 5])\n",
    "array2 = np.array([3, 4, 5, 6, 7])\n",
    "intersection = np.intersect1d(array1, array2)\n",
    "print(\"\\n Intersection of Arrays:\\n\", intersection)\n",
    "\n",
    "# 6. Demonstrate Copy vs View\n",
    "original = np.array([10, 20, 30])\n",
    "view = original.view()\n",
    "copy = original.copy()\n",
    "\n",
    "# Change the view\n",
    "view[0] = 999\n",
    "print(\"\\n Original after modifying view:\\n\", original)\n",
    "print(\" View:\\n\", view)\n",
    "\n",
    "# Change the copy\n",
    "copy[1] = 888\n",
    "print(\"\\n Copy after modification (original unaffected):\\n\", copy)\n",
    "print(\" Original (unchanged by copy):\\n\", original)\n"
   ]
  },
  {
   "cell_type": "code",
   "execution_count": null,
   "id": "4422e9d2-b5b0-4ac2-a6b8-a50f4c64df7c",
   "metadata": {},
   "outputs": [],
   "source": []
  }
 ],
 "metadata": {
  "kernelspec": {
   "display_name": "Python 3 (ipykernel)",
   "language": "python",
   "name": "python3"
  },
  "language_info": {
   "codemirror_mode": {
    "name": "ipython",
    "version": 3
   },
   "file_extension": ".py",
   "mimetype": "text/x-python",
   "name": "python",
   "nbconvert_exporter": "python",
   "pygments_lexer": "ipython3",
   "version": "3.11.7"
  }
 },
 "nbformat": 4,
 "nbformat_minor": 5
}
